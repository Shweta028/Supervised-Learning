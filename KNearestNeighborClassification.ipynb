{
 "cells": [
  {
   "cell_type": "code",
   "execution_count": 21,
   "metadata": {},
   "outputs": [
    {
     "name": "stdout",
     "output_type": "stream",
     "text": [
      "[0 0 1 2 2 1 1 0 2 2 1 1 2 2 0]\n",
      "Accuracy= 0.9333333333333333\n"
     ]
    }
   ],
   "source": [
    "# Implementing K-Nearest Neighbor Classifier on IRIs dataset\n",
    "\n",
    "import csv\n",
    "from sklearn.datasets import load_iris\n",
    "from sklearn.neighbors import KNeighborsClassifier as knn\n",
    "from sklearn.model_selection import train_test_split\n",
    "import numpy as np\n",
    "from sklearn.metrics import accuracy_score\n",
    "\n",
    "# load IRIS data set\n",
    "iris=load_iris()\n",
    "\n",
    "# dividing training testing data automatically using train_test_split() function\n",
    "\n",
    "train_data,test_data,train_target,test_target=train_test_split(iris.data,iris.target,test_size=0.1)\n",
    "\n",
    "#Calling KNeighborsClassifier\n",
    "clf=knn(n_neighbors=5)\n",
    "\n",
    "#Calling fit function\n",
    "trained=clf.fit(train_data,train_target)\n",
    "\n",
    "#Predicting test data\n",
    "prediction=trained.predict(test_data) \n",
    "\n",
    "#printing output\n",
    "print prediction\n",
    "\n",
    "#Calculating Accuracy\n",
    "accuracy=accuracy_score(test_target,prediction)\n",
    "print 'Accuracy=',accuracy"
   ]
  },
  {
   "cell_type": "code",
   "execution_count": null,
   "metadata": {},
   "outputs": [],
   "source": []
  },
  {
   "cell_type": "code",
   "execution_count": null,
   "metadata": {},
   "outputs": [],
   "source": []
  }
 ],
 "metadata": {
  "kernelspec": {
   "display_name": "Python 2",
   "language": "python",
   "name": "python2"
  },
  "language_info": {
   "codemirror_mode": {
    "name": "ipython",
    "version": 2
   },
   "file_extension": ".py",
   "mimetype": "text/x-python",
   "name": "python",
   "nbconvert_exporter": "python",
   "pygments_lexer": "ipython2",
   "version": "2.7.12"
  }
 },
 "nbformat": 4,
 "nbformat_minor": 2
}
