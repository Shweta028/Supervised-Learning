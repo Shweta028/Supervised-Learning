{
 "cells": [
  {
   "cell_type": "code",
   "execution_count": 13,
   "metadata": {},
   "outputs": [
    {
     "name": "stdout",
     "output_type": "stream",
     "text": [
      "(105, 4)\n",
      "(45, 4)\n",
      "(105,)\n",
      "(45,)\n",
      "[0 2 2 1 0 0 0 2 1 1 1 2 1 0 2 0 2 1 1 1 0 0 1 2 1 0 1 0 1 2 1 0 1 0 1 0 1\n",
      " 2 2 2 2 1 0 0 2]\n",
      "Accuracy= 0.9777777777777777\n"
     ]
    }
   ],
   "source": [
    "from sklearn import tree\n",
    "from sklearn.datasets import load_iris\n",
    "import numpy as np\n",
    "import time\n",
    "from sklearn.model_selection import train_test_split\n",
    "from sklearn.metrics import accuracy_score\n",
    "\n",
    "#loading iris dataset\n",
    "iris=load_iris()\n",
    "\n",
    "train_data,test_data,train_target,test_target = train_test_split(iris.data, iris.target, test_size=0.3)\n",
    "\n",
    "print train_data.shape\n",
    "print test_data.shape\n",
    "print train_target.shape\n",
    "print test_target.shape\n",
    "\n",
    "clf=tree.DecisionTreeClassifier()\n",
    "trained=clf.fit(train_data,train_target)\n",
    "predicted=trained.predict(test_data)\n",
    "\n",
    "print predicted\n",
    "\n",
    "accuracy=accuracy_score(test_target,predicted)\n",
    "print 'Accuracy=',accuracy\n"
   ]
  },
  {
   "cell_type": "code",
   "execution_count": null,
   "metadata": {},
   "outputs": [],
   "source": []
  },
  {
   "cell_type": "code",
   "execution_count": null,
   "metadata": {},
   "outputs": [],
   "source": []
  }
 ],
 "metadata": {
  "kernelspec": {
   "display_name": "Python 2",
   "language": "python",
   "name": "python2"
  },
  "language_info": {
   "codemirror_mode": {
    "name": "ipython",
    "version": 2
   },
   "file_extension": ".py",
   "mimetype": "text/x-python",
   "name": "python",
   "nbconvert_exporter": "python",
   "pygments_lexer": "ipython2",
   "version": "2.7.12"
  }
 },
 "nbformat": 4,
 "nbformat_minor": 2
}
