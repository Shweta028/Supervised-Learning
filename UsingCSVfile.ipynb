{
 "cells": [
  {
   "cell_type": "code",
   "execution_count": 5,
   "metadata": {},
   "outputs": [
    {
     "name": "stdout",
     "output_type": "stream",
     "text": [
      "   5.1  0.222222222  3.5     0.625  1.4  0.06779661  0.2  0.041666667  setosa\n",
      "0  4.9     0.166667  3.0  0.416667  1.4    0.067797  0.2     0.041667  setosa\n",
      "1  4.7     0.111111  3.2  0.500000  1.3    0.050847  0.2     0.041667  setosa\n",
      "2  4.6     0.083333  3.1  0.458333  1.5    0.084746  0.2     0.041667  setosa\n",
      "3  5.0     0.194444  3.6  0.666667  1.4    0.067797  0.2     0.041667  setosa\n",
      "4  5.4     0.305556  3.9  0.791667  1.7    0.118644  0.4     0.125000  setosa\n",
      "5  4.6     0.083333  3.4  0.583333  1.4    0.067797  0.3     0.083333  setosa\n",
      "6  5.0     0.194444  3.4  0.583333  1.5    0.084746  0.2     0.041667  setosa\n",
      "7  4.4     0.027778  2.9  0.375000  1.4    0.067797  0.2     0.041667  setosa\n",
      "8  4.9     0.166667  3.1  0.458333  1.5    0.084746  0.1     0.010000  setosa\n",
      "9  5.4     0.305556  3.7  0.708333  1.5    0.084746  0.2     0.041667  setosa\n"
     ]
    }
   ],
   "source": [
    "# Extracting complete data from a dataset as csv file\n",
    "\n",
    "import pandas as pd      #pandas is very useful for viewing and modifying different datasets\n",
    "\n",
    "data_frame=pd.read_csv(\"/home/shweta/Downloads/IRIS.csv\")   # Before this download iris.csv from any dataset source\n",
    "\n",
    "print data_frame.head(10)              #This will display first 10 rows from the dataset"
   ]
  },
  {
   "cell_type": "code",
   "execution_count": null,
   "metadata": {},
   "outputs": [],
   "source": []
  }
 ],
 "metadata": {
  "kernelspec": {
   "display_name": "Python 2",
   "language": "python",
   "name": "python2"
  },
  "language_info": {
   "codemirror_mode": {
    "name": "ipython",
    "version": 2
   },
   "file_extension": ".py",
   "mimetype": "text/x-python",
   "name": "python",
   "nbconvert_exporter": "python",
   "pygments_lexer": "ipython2",
   "version": "2.7.12"
  }
 },
 "nbformat": 4,
 "nbformat_minor": 2
}
